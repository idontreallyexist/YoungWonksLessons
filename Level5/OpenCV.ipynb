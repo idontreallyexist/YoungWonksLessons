{
 "cells": [
  {
   "cell_type": "code",
   "execution_count": 7,
   "id": "7395a52f",
   "metadata": {},
   "outputs": [],
   "source": [
    "import cv2\n",
    "import matplotlib.pyplot as plt\n",
    "import pandas as pd\n",
    "import numpy as np\n",
    "import random\n",
    "section=np.ones((5,5))\n",
    "\n",
    "img=cv2.imread(\"Scenic.jpg\")\n",
    "greyscale=cv2.cvtColor(img,cv2.COLOR_BGR2GRAY)\n",
    "resize=cv2.resize(img,dsize=None,fx=0.4,fy=0.4)\n",
    "eroded=cv2.erode(img,(section))\n",
    "dilated=cv2.dilate(img,(section))\n",
    "var,threshold=cv2.threshold(greyscale,150,255,cv2.THRESH_BINARY)\n",
    "invert=cv2.bitwise_not(img)\n",
    "flipped=cv2.flip(img,0)\n",
    "edge=cv2.Canny(img,100,100)\n",
    "cv2.imshow(\"OpenCV Test\",img)\n",
    "cv2.imshow(\"OpenCV Filter\",greyscale)\n",
    "cv2.imshow(\"OpenCV Resize\",resize)\n",
    "cv2.imshow(\"OpenCV Erosion\",eroded)\n",
    "cv2.imshow(\"OpenCV Dilate\",dilated)\n",
    "cv2.imshow(\"OpenCV Threshold\",threshold)\n",
    "cv2.imshow(\"OpenCV Invert\",invert)\n",
    "cv2.imshow(\"OpenCV Flip\",flipped)\n",
    "cv2.imshow(\"OpenCV Edge Detection\",edge)\n",
    "cv2.waitKey()\n",
    "cv2.destroyAllWindows()"
   ]
  },
  {
   "cell_type": "code",
   "execution_count": 12,
   "id": "b18c2aaa",
   "metadata": {},
   "outputs": [],
   "source": [
    "section=np.ones((6,6))\n",
    "img=cv2.imread(\"Scenic.jpg\")\n",
    "greyscale=cv2.cvtColor(img,cv2.COLOR_BGR2GRAY)\n",
    "blur = cv2.GaussianBlur(greyscale,(5,5),0)\n",
    "eroded=cv2.erode(greyscale,(section))\n",
    "var,threshold=cv2.threshold(eroded,100,100,cv2.THRESH_BINARY)\n",
    "cv2.rectangle(img,(1,1),(20,20),cv2.COLOR_BGR2GRAY,5)\n",
    "cv2.circle(img,(50,50),20,cv2.COLOR_BGR2GRAY,5)\n",
    "cv2.line(img,(30,1),(30,20),cv2.COLOR_BGR2GRAY,5)\n",
    "cv2.putText(img,\"Test\",(100,100),cv2.FONT_HERSHEY_DUPLEX,2,cv2.COLOR_BGR2GRAY,5)\n",
    "ctrs,_=cv2.findContours(threshold.copy(),cv2.RETR_EXTERNAL,cv2.CHAIN_APPROX_SIMPLE)\n",
    "cv2.drawContours(img,ctrs,-1,(0,255,255),3)\n",
    "cv2.imshow(\"OpenCV Draw\",img)\n",
    "cv2.waitKey()\n",
    "cv2.destroyAllWindows()"
   ]
  },
  {
   "cell_type": "code",
   "execution_count": 20,
   "id": "4aca41d1",
   "metadata": {},
   "outputs": [],
   "source": [
    "npImg=np.array([])\n",
    "for i in range(0,32):\n",
    "    temp=[]\n",
    "    for j in range(0,32):\n",
    "        temp.append((random.randint(0,255),random.randint(0,255),random.randint(0,255)))\n",
    "    npImg=np.append(npImg,temp)\n",
    "\n",
    "cv2.imshow(\"OpenCV Numpy Test\",npImg)\n",
    "cv2.waitKey()\n",
    "cv2.destroyAllWindows()"
   ]
  },
  {
   "cell_type": "code",
   "execution_count": 23,
   "id": "0a04b386",
   "metadata": {},
   "outputs": [],
   "source": [
    "cap=cv2.VideoCapture(0)\n",
    "while cap.isOpened():\n",
    "    ret, frame = cap.read()\n",
    "    if ret:\n",
    "        greyframe=cv2.cvtColor(frame,cv2.COLOR_BGR2GRAY)\n",
    "        cv2.imshow(\"Video\",frame)\n",
    "        cv2.imshow(\"Greyscale Video\",greyframe)\n",
    "        if cv2.waitKey(1) & 0xFF==ord('q'):\n",
    "            break\n",
    "cap.release()\n",
    "cv2.destroyAllWindows()"
   ]
  }
 ],
 "metadata": {
  "kernelspec": {
   "display_name": "Python 3",
   "language": "python",
   "name": "python3"
  },
  "language_info": {
   "codemirror_mode": {
    "name": "ipython",
    "version": 3
   },
   "file_extension": ".py",
   "mimetype": "text/x-python",
   "name": "python",
   "nbconvert_exporter": "python",
   "pygments_lexer": "ipython3",
   "version": "3.12.0"
  }
 },
 "nbformat": 4,
 "nbformat_minor": 5
}
