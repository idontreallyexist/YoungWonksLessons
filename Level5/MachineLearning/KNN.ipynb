{
 "cells": [
  {
   "cell_type": "code",
   "execution_count": null,
   "id": "12d386e8",
   "metadata": {},
   "outputs": [
    {
     "name": "stdout",
     "output_type": "stream",
     "text": [
      "0.9666666666666667\n"
     ]
    }
   ],
   "source": [
    "import matplotlib.pyplot as plt\n",
    "import pandas as pd\n",
    "import numpy as np\n",
    "from sklearn import metrics, preprocessing, neighbors\n",
    "import sklearn.model_selection\n",
    "from sklearn.model_selection import train_test_split\n",
    "#import joblib\n",
    "#from joblib import dump, load\n",
    "#import tensorflow\n",
    "import os\n",
    "import cv2\n",
    "\n",
    "df=pd.read_csv(\"Iris.csv\")\n",
    "\n",
    "np.random.seed(0)\n",
    "x=df[[\"SepalLengthCm\",\"SepalWidthCm\",\"PetalLengthCm\",\"PetalWidthCm\"]]\n",
    "y=df[\"Species\"]\n",
    "xTrain,xTest,yTrain,yTest=train_test_split(x,y,test_size=0.2)\n",
    "#xTrainScale=preprocessing.scale(xTrain)\n",
    "#xTestScale=preprocessing.scale(xTest)\n",
    "classifier = neighbors.KNeighborsClassifier()\n",
    "classifier.fit(xTrain,yTrain)\n",
    "accuracy=classifier.score(xTest,yTest)\n",
    "print(accuracy)"
   ]
  },
  {
   "cell_type": "code",
   "execution_count": 2,
   "id": "a9d4b229",
   "metadata": {},
   "outputs": [
    {
     "name": "stdout",
     "output_type": "stream",
     "text": [
      "test\n",
      "test2\n"
     ]
    }
   ],
   "source": [
    "image_list=[]\n",
    "label_list=[]\n",
    "width=128\n",
    "height=128\n",
    "\n",
    "for image in os.listdir(\"cell_images/Uninfected\"):\n",
    "    path=os.path.join(\"cell_images/Uninfected\",image)\n",
    "    img=cv2.imread(path,cv2.IMREAD_GRAYSCALE)\n",
    "    try:\n",
    "        img2=cv2.resize(img,(width,height))\n",
    "        img2=img2.flatten()\n",
    "        image_list.append(img2)\n",
    "        label_list.append(0)\n",
    "    except:\n",
    "        pass\n",
    "\n",
    "for image in os.listdir(\"cell_images/Parasitized\"):\n",
    "    path=os.path.join(\"cell_images/Parasitized\",image)\n",
    "    img=cv2.imread(path,cv2.IMREAD_GRAYSCALE)\n",
    "    try:\n",
    "        img2=cv2.resize(img,(width,height))\n",
    "        img2=img2.flatten()\n",
    "        image_list.append(img2)\n",
    "        label_list.append(1)\n",
    "    except:\n",
    "        pass\n",
    "\n",
    "x=np.array(image_list)\n",
    "y=np.array(label_list)"
   ]
  },
  {
   "cell_type": "code",
   "execution_count": 3,
   "id": "7d103b83",
   "metadata": {},
   "outputs": [
    {
     "name": "stdout",
     "output_type": "stream",
     "text": [
      "test\n",
      "test2\n",
      "test3\n",
      "0.5794629898403484\n"
     ]
    }
   ],
   "source": [
    "xTrain,xTest,yTrain,yTest=train_test_split(x,y,test_size=0.2)\n",
    "print(\"test\")\n",
    "classifier = neighbors.KNeighborsClassifier()\n",
    "print(\"test2\")\n",
    "classifier.fit(xTrain,yTrain)\n",
    "print(\"test3\")\n",
    "accuracy=classifier.score(xTest,yTest)\n",
    "print(accuracy)"
   ]
  }
 ],
 "metadata": {
  "kernelspec": {
   "display_name": "Python 3",
   "language": "python",
   "name": "python3"
  },
  "language_info": {
   "codemirror_mode": {
    "name": "ipython",
    "version": 3
   },
   "file_extension": ".py",
   "mimetype": "text/x-python",
   "name": "python",
   "nbconvert_exporter": "python",
   "pygments_lexer": "ipython3",
   "version": "3.12.0"
  }
 },
 "nbformat": 4,
 "nbformat_minor": 5
}
